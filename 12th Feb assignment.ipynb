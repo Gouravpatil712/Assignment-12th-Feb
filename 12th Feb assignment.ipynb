{
 "cells": [
  {
   "cell_type": "markdown",
   "id": "24e1d3ab-89d6-495d-a960-8bca6063aa29",
   "metadata": {},
   "source": [
    "## Question 01 - What is an Exception in python? Write the difference between Exceptions and syntax errors"
   ]
  },
  {
   "cell_type": "markdown",
   "id": "2229c566-56a8-447d-9ab5-4ba829628a09",
   "metadata": {},
   "source": [
    "In Python, an exception is an event that occurs during the execution of a program that disrupts the normal flow of instructions. When an exceptional event occurs, the program's execution is interrupted, and the program execution is transferred to the nearest appropriate exception handler. Exceptions can occur for a variety of reasons, such as incorrect user input, out-of-memory errors, network failures, and so on.\n",
    "\n",
    "On the other hand, a syntax error is a type of error that occurs when the Python interpreter encounters an error in the syntax of the program. Syntax errors occur when the program code is not written according to the correct Python syntax rules. Common examples of syntax errors include incorrect indentation, missing parentheses, missing commas, and invalid variable names.\n",
    "\n",
    "The main difference between exceptions and syntax errors is that syntax errors are detected by the Python interpreter when the program is being compiled, while exceptions are detected at runtime when the program is being executed. When a syntax error is encountered, the Python interpreter stops execution and displays an error message describing the problem. In contrast, when an exception is raised during program execution, the Python interpreter looks for the nearest appropriate exception handler and executes it."
   ]
  },
  {
   "cell_type": "code",
   "execution_count": 6,
   "id": "39599015-2153-41e3-9841-194b8e3f8ee0",
   "metadata": {},
   "outputs": [
    {
     "ename": "SyntaxError",
     "evalue": "unterminated string literal (detected at line 2) (1377797708.py, line 2)",
     "output_type": "error",
     "traceback": [
      "\u001b[0;36m  Cell \u001b[0;32mIn[6], line 2\u001b[0;36m\u001b[0m\n\u001b[0;31m    print(\"Hello, world!)\u001b[0m\n\u001b[0m          ^\u001b[0m\n\u001b[0;31mSyntaxError\u001b[0m\u001b[0;31m:\u001b[0m unterminated string literal (detected at line 2)\n"
     ]
    }
   ],
   "source": [
    "# Syntax error\n",
    "print(\"Hello, world!)\n"
   ]
  },
  {
   "cell_type": "code",
   "execution_count": 8,
   "id": "d38e7aa8-2ce1-4b84-96f8-cbbd2538c313",
   "metadata": {},
   "outputs": [
    {
     "name": "stdout",
     "output_type": "stream",
     "text": [
      "Error: Cannot divide by zero\n"
     ]
    }
   ],
   "source": [
    "# Exception\n",
    "try:\n",
    "    print(1 / 0)\n",
    "except ZeroDivisionError:\n",
    "    print(\"Error: Cannot divide by zero\")\n"
   ]
  },
  {
   "cell_type": "markdown",
   "id": "55476c35-a0f0-4691-b4d2-7a4cd7e520f4",
   "metadata": {},
   "source": [
    "In this example, we try to divide 1 by 0, which is not possible and will result in a ZeroDivisionError exception. We use a try/except block to catch the exception and print a helpful error message. When we run the program, the print() statement inside the except block is executed, and we see the following output:\n",
    "\n"
   ]
  },
  {
   "cell_type": "markdown",
   "id": "a8af9d05-9192-48e4-985d-6d7b283bf7a0",
   "metadata": {},
   "source": [
    "## Question 02 - What happens when an exception is not handled? Explin with an example"
   ]
  },
  {
   "cell_type": "markdown",
   "id": "ba822eec-12b6-4cff-9a74-d1eb97a5be66",
   "metadata": {},
   "source": [
    "# Answer :-\n",
    "\n",
    "When an exception is not handled, the program will terminate with an error message that describes the exception that was raised. The error message will usually include a traceback that shows the sequence of function calls that led up to the exception."
   ]
  },
  {
   "cell_type": "code",
   "execution_count": 1,
   "id": "f0683586-c453-4284-80bb-eb4284d9eb86",
   "metadata": {},
   "outputs": [
    {
     "ename": "ZeroDivisionError",
     "evalue": "division by zero",
     "output_type": "error",
     "traceback": [
      "\u001b[0;31m---------------------------------------------------------------------------\u001b[0m",
      "\u001b[0;31mZeroDivisionError\u001b[0m                         Traceback (most recent call last)",
      "Cell \u001b[0;32mIn[1], line 4\u001b[0m\n\u001b[1;32m      1\u001b[0m \u001b[38;5;28;01mdef\u001b[39;00m \u001b[38;5;21mdivide_by_zero\u001b[39m():\n\u001b[1;32m      2\u001b[0m     \u001b[38;5;28;01mreturn\u001b[39;00m \u001b[38;5;241m1\u001b[39m \u001b[38;5;241m/\u001b[39m \u001b[38;5;241m0\u001b[39m\n\u001b[0;32m----> 4\u001b[0m \u001b[43mdivide_by_zero\u001b[49m\u001b[43m(\u001b[49m\u001b[43m)\u001b[49m\n",
      "Cell \u001b[0;32mIn[1], line 2\u001b[0m, in \u001b[0;36mdivide_by_zero\u001b[0;34m()\u001b[0m\n\u001b[1;32m      1\u001b[0m \u001b[38;5;28;01mdef\u001b[39;00m \u001b[38;5;21mdivide_by_zero\u001b[39m():\n\u001b[0;32m----> 2\u001b[0m     \u001b[38;5;28;01mreturn\u001b[39;00m \u001b[38;5;241;43m1\u001b[39;49m\u001b[43m \u001b[49m\u001b[38;5;241;43m/\u001b[39;49m\u001b[43m \u001b[49m\u001b[38;5;241;43m0\u001b[39;49m\n",
      "\u001b[0;31mZeroDivisionError\u001b[0m: division by zero"
     ]
    }
   ],
   "source": [
    "def divide_by_zero():\n",
    "    return 1 / 0\n",
    "\n",
    "divide_by_zero()\n"
   ]
  },
  {
   "cell_type": "markdown",
   "id": "3dd65cfd-4c81-48da-ab8f-0c350f715e71",
   "metadata": {},
   "source": [
    "In this example, we have a function divide_by_zero() that attempts to divide 1 by 0, which is not possible and will result in a ZeroDivisionError exception. We call the function without using a try/except block to catch the exception.\n",
    "\n",
    "When we run the program, the divide_by_zero() function is executed, and the ZeroDivisionError exception is raised. Since there is no try/except block to catch the exception, the program terminates with an error message:"
   ]
  },
  {
   "cell_type": "code",
   "execution_count": 2,
   "id": "5c3cfb74-155e-4f3a-bcae-1c0c8f7c3dcc",
   "metadata": {},
   "outputs": [
    {
     "ename": "SyntaxError",
     "evalue": "invalid syntax. Perhaps you forgot a comma? (3462206933.py, line 1)",
     "output_type": "error",
     "traceback": [
      "\u001b[0;36m  Cell \u001b[0;32mIn[2], line 1\u001b[0;36m\u001b[0m\n\u001b[0;31m    Traceback (most recent call last):\u001b[0m\n\u001b[0m               ^\u001b[0m\n\u001b[0;31mSyntaxError\u001b[0m\u001b[0;31m:\u001b[0m invalid syntax. Perhaps you forgot a comma?\n"
     ]
    }
   ],
   "source": [
    "Traceback (most recent call last):\n",
    "  File \"<stdin>\", line 1, in <module>\n",
    "  File \"<stdin>\", line 2, in divide_by_zero\n",
    "ZeroDivisionError: division by zero\n"
   ]
  },
  {
   "cell_type": "markdown",
   "id": "1ba9f089-6988-48ed-9a21-3758e5190b8a",
   "metadata": {},
   "source": [
    "As we can see, the error message includes a traceback that shows the sequence of function calls that led up to the exception. In this case, the traceback shows that the exception occurred in the divide_by_zero() function, which was called from the main program. If the exception is not handled, the program terminates with an error message, and any code that comes after the point where the exception was raised will not be executed."
   ]
  },
  {
   "cell_type": "markdown",
   "id": "30091574-3a53-4a92-99e0-a306cff1c954",
   "metadata": {},
   "source": [
    "## Question 03 - Which Python statements are used to catch and handle exceptions? Explain with an example"
   ]
  },
  {
   "cell_type": "markdown",
   "id": "b93ef8b0-16ee-4a7b-83ea-b05ec953c21e",
   "metadata": {},
   "source": [
    "#Answer :-\n",
    "\n",
    "In Python, we can catch and handle exceptions using try and except statements. The try block contains the code that may raise an exception, while the except block contains the code that handles the exception if it occurs."
   ]
  },
  {
   "cell_type": "code",
   "execution_count": 3,
   "id": "60b04089-2526-4def-9ad5-eee1ad06dfe3",
   "metadata": {},
   "outputs": [
    {
     "name": "stdout",
     "output_type": "stream",
     "text": [
      "The result is 5.0\n",
      "Cannot divide by zero!\n"
     ]
    }
   ],
   "source": [
    "def divide(x, y):\n",
    "    try:\n",
    "        result = x / y\n",
    "    except ZeroDivisionError:\n",
    "        print(\"Cannot divide by zero!\")\n",
    "    else:\n",
    "        print(f\"The result is {result}\")\n",
    "\n",
    "divide(10, 2)    # Output: The result is 5.0\n",
    "divide(5, 0)     # Output: Cannot divide by zero!\n"
   ]
  },
  {
   "cell_type": "markdown",
   "id": "4ca2436b-b554-4916-b82d-7104e3413ff7",
   "metadata": {},
   "source": [
    "In this example, the divide() function attempts to divide two numbers x and y in a try block. If the division operation succeeds, the result is printed to the console using an else block. If the division raises a ZeroDivisionError exception, the except block catches the exception and prints an error message.\n",
    "\n",
    "When we call divide(10, 2), the function executes without raising an exception, so the else block is executed and the result is printed. However, when we call divide(5, 0), the division operation raises a ZeroDivisionError exception, which is caught by the except block and an error message is printed instead of the result."
   ]
  },
  {
   "cell_type": "markdown",
   "id": "4f1e2800-8940-496f-a000-b4c7d3cf7609",
   "metadata": {},
   "source": [
    "## Question 04 - Explain with an example:\n",
    "\n",
    "a. try and else \n",
    "b. finally \n",
    "c. raise "
   ]
  },
  {
   "cell_type": "markdown",
   "id": "9c44116f-c211-4ad9-a0c5-7db2d448a3eb",
   "metadata": {},
   "source": [
    "#Answer :-\n",
    "\n",
    "1. The try block contains the code that may raise an exception, while the else block contains the code that is executed when no exceptions are raised. "
   ]
  },
  {
   "cell_type": "code",
   "execution_count": 4,
   "id": "9b061976-2b19-4117-9f11-45c60b30fa00",
   "metadata": {},
   "outputs": [
    {
     "name": "stdin",
     "output_type": "stream",
     "text": [
      "Enter a number:  5\n"
     ]
    },
    {
     "name": "stdout",
     "output_type": "stream",
     "text": [
      "The square of 5 is 25\n"
     ]
    }
   ],
   "source": [
    "try:\n",
    "    x = int(input(\"Enter a number: \"))\n",
    "except ValueError:\n",
    "    print(\"Invalid input\")\n",
    "else:\n",
    "    print(f\"The square of {x} is {x**2}\")\n"
   ]
  },
  {
   "cell_type": "markdown",
   "id": "7d73e861-0d3c-4e3b-a236-e3ca4cde0369",
   "metadata": {},
   "source": [
    "2. The finally block contains code that is always executed, regardless of whether an exception is raised or not."
   ]
  },
  {
   "cell_type": "code",
   "execution_count": 5,
   "id": "07bf19b8-b575-4097-bdbb-697600720cc7",
   "metadata": {},
   "outputs": [
    {
     "name": "stdin",
     "output_type": "stream",
     "text": [
      "Enter a number:  35\n"
     ]
    },
    {
     "name": "stdout",
     "output_type": "stream",
     "text": [
      "The square of 35 is 1225\n",
      "Thank you for using this program!\n"
     ]
    }
   ],
   "source": [
    "try:\n",
    "    x = int(input(\"Enter a number: \"))\n",
    "except ValueError:\n",
    "    print(\"Invalid input\")\n",
    "else:\n",
    "    print(f\"The square of {x} is {x**2}\")\n",
    "finally:\n",
    "    print(\"Thank you for using this program!\")\n"
   ]
  },
  {
   "cell_type": "markdown",
   "id": "4cb7ebb2-0f1d-4750-9c01-e692afeb0e43",
   "metadata": {},
   "source": [
    "3. The raise statement is used to manually raise an exception."
   ]
  },
  {
   "cell_type": "code",
   "execution_count": 6,
   "id": "171c6056-4f30-4a7b-aab1-81556c2b1b0d",
   "metadata": {},
   "outputs": [
    {
     "name": "stdin",
     "output_type": "stream",
     "text": [
      "Enter your age:  99\n"
     ]
    },
    {
     "name": "stdout",
     "output_type": "stream",
     "text": [
      "Your age is 99\n"
     ]
    }
   ],
   "source": [
    "def get_age():\n",
    "    age = int(input(\"Enter your age: \"))\n",
    "    if age < 0:\n",
    "        raise ValueError(\"Age cannot be negative\")\n",
    "    return age\n",
    "\n",
    "try:\n",
    "    age = get_age()\n",
    "except ValueError as e:\n",
    "    print(e)\n",
    "else:\n",
    "    print(f\"Your age is {age}\")\n"
   ]
  },
  {
   "cell_type": "markdown",
   "id": "e74a3953-0eb9-483d-b19d-fce20c415394",
   "metadata": {},
   "source": [
    "## Question 05 - What are Custom Exceptions in python? Why do we need Custom Exceptions? Explain with an example"
   ]
  },
  {
   "cell_type": "markdown",
   "id": "167ff372-4570-4509-9415-48bb65ffe780",
   "metadata": {},
   "source": [
    "#Answer :-\n",
    "\n",
    "Custom exceptions in Python are user-defined exceptions that are created by the programmer to handle specific errors that are not covered by the built-in exceptions. Custom exceptions can be raised just like built-in exceptions using the raise keyword.\n",
    "\n",
    "Custom exceptions are useful in situations where a specific error needs to be handled in a particular way that is not covered by the built-in exceptions. They can also improve the readability of the code by making the error messages more meaningful and descriptive."
   ]
  },
  {
   "cell_type": "code",
   "execution_count": 7,
   "id": "6cd65ddf-fe69-4566-a031-05802abd08c3",
   "metadata": {},
   "outputs": [
    {
     "name": "stdout",
     "output_type": "stream",
     "text": [
      "Number cannot be negative\n"
     ]
    }
   ],
   "source": [
    "class NegativeNumberError(Exception):\n",
    "    def __init__(self, message=\"Number cannot be negative\"):\n",
    "        self.message = message\n",
    "        super().__init__(self.message)\n",
    "\n",
    "def square_root(x):\n",
    "    if x < 0:\n",
    "        raise NegativeNumberError()\n",
    "    return x ** 0.5\n",
    "\n",
    "try:\n",
    "    result = square_root(-1)\n",
    "except NegativeNumberError as e:\n",
    "    print(e)\n",
    "else:\n",
    "    print(result)\n"
   ]
  },
  {
   "cell_type": "markdown",
   "id": "29cabd80-5070-45e1-b72e-13aec97e8759",
   "metadata": {},
   "source": [
    "In this example, we define a custom exception called NegativeNumberError, which is raised if the input to the square_root() function is negative. The NegativeNumberError class inherits from the built-in Exception class and defines a custom error message.\n",
    "\n",
    "The square_root() function takes an input x and raises a NegativeNumberError if x is negative. Otherwise, it calculates the square root of x and returns the result.\n",
    "\n",
    "In the try block, we call the square_root() function with a negative input, which raises the NegativeNumberError. This exception is caught by the except block, which prints the error message. If the input was positive, the else block would have been executed, which prints the square root of the input to the console."
   ]
  },
  {
   "cell_type": "markdown",
   "id": "86b3af82-01f7-4d21-a1f3-7b8655d22544",
   "metadata": {},
   "source": [
    "## Question 06 - Create Custom exception class. Use this class to handle an exception."
   ]
  },
  {
   "cell_type": "code",
   "execution_count": 8,
   "id": "56b448d6-1cf1-45d4-8f4f-4a9d675c8b9c",
   "metadata": {},
   "outputs": [
    {
     "name": "stdout",
     "output_type": "stream",
     "text": [
      "The number cannot be negative.\n"
     ]
    }
   ],
   "source": [
    "class CustomException(Exception):\n",
    "    def __init__(self, message=\"This is a custom exception.\"):\n",
    "        self.message = message\n",
    "        super().__init__(self.message)\n",
    "\n",
    "def example_function(number):\n",
    "    if number < 0:\n",
    "        raise CustomException(\"The number cannot be negative.\")\n",
    "    else:\n",
    "        print(f\"The number is {number}.\")\n",
    "\n",
    "try:\n",
    "    example_function(-1)\n",
    "except CustomException as e:\n",
    "    print(e)\n"
   ]
  },
  {
   "cell_type": "markdown",
   "id": "29446bc1-0cc6-48ec-b6ca-80a0c12861b7",
   "metadata": {},
   "source": [
    "In this example, we define a custom exception class called CustomException. This class inherits from the built-in Exception class and defines a custom error message.\n",
    "\n",
    "We then define a function called example_function that takes a number as an argument. If the number is negative, it raises the CustomException. Otherwise, it prints the number to the console.\n",
    "\n",
    "In the try block, we call the example_function with a negative number, which raises the CustomException. This exception is caught by the except block, which prints the error message.\n",
    "\n",
    "If we were to call the example_function with a positive number, the function would print the number to the console instead of raising the exception."
   ]
  },
  {
   "cell_type": "code",
   "execution_count": null,
   "id": "572a65c9-71b4-4186-9cdc-54f56d19d554",
   "metadata": {},
   "outputs": [],
   "source": []
  }
 ],
 "metadata": {
  "kernelspec": {
   "display_name": "Python 3 (ipykernel)",
   "language": "python",
   "name": "python3"
  },
  "language_info": {
   "codemirror_mode": {
    "name": "ipython",
    "version": 3
   },
   "file_extension": ".py",
   "mimetype": "text/x-python",
   "name": "python",
   "nbconvert_exporter": "python",
   "pygments_lexer": "ipython3",
   "version": "3.10.8"
  }
 },
 "nbformat": 4,
 "nbformat_minor": 5
}
